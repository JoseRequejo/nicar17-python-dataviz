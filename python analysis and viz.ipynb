{
 "cells": [
  {
   "cell_type": "code",
   "execution_count": 1,
   "metadata": {
    "collapsed": false,
    "deletable": true,
    "editable": true
   },
   "outputs": [],
   "source": [
    "import pandas as pd\n",
    "import matplotlib as mplstyle\n",
    "import numpy as np\n",
    "import seaborn as sns\n",
    "import matplotlib.pyplot as plt\n",
    "%matplotlib inline"
   ]
  },
  {
   "cell_type": "code",
   "execution_count": 2,
   "metadata": {
    "collapsed": true,
    "deletable": true,
    "editable": true
   },
   "outputs": [],
   "source": [
    "schools = pd.read_csv('FL_elementaries.csv')"
   ]
  },
  {
   "cell_type": "code",
   "execution_count": 4,
   "metadata": {
    "collapsed": false,
    "deletable": true,
    "editable": true
   },
   "outputs": [
    {
     "data": {
      "text/html": [
       "<div>\n",
       "<table border=\"1\" class=\"dataframe\">\n",
       "  <thead>\n",
       "    <tr style=\"text-align: right;\">\n",
       "      <th></th>\n",
       "      <th>year</th>\n",
       "      <th>total_enrollment</th>\n",
       "      <th>school</th>\n",
       "      <th>pinellas_flag</th>\n",
       "      <th>percent_pre_kinder_ready</th>\n",
       "      <th>percent_passing_reading</th>\n",
       "      <th>percent_passing_math</th>\n",
       "      <th>percent_free_lunch</th>\n",
       "      <th>percent_black_enrollment</th>\n",
       "      <th>majority_free_lunch_flag</th>\n",
       "      <th>majority_black_enrollment_flag</th>\n",
       "      <th>district</th>\n",
       "      <th>FF_school_flag</th>\n",
       "    </tr>\n",
       "  </thead>\n",
       "  <tbody>\n",
       "    <tr>\n",
       "      <th>0</th>\n",
       "      <td>2014</td>\n",
       "      <td>549</td>\n",
       "      <td>LAKEWOOD ELEMENTARY SCHOOL</td>\n",
       "      <td>True</td>\n",
       "      <td>62.0</td>\n",
       "      <td>19.0</td>\n",
       "      <td>15.0</td>\n",
       "      <td>0.688525</td>\n",
       "      <td>0.817851</td>\n",
       "      <td>True</td>\n",
       "      <td>True</td>\n",
       "      <td>PINELLAS</td>\n",
       "      <td>True</td>\n",
       "    </tr>\n",
       "    <tr>\n",
       "      <th>1</th>\n",
       "      <td>2014</td>\n",
       "      <td>410</td>\n",
       "      <td>MELROSE ELEMENTARY SCHOOL</td>\n",
       "      <td>True</td>\n",
       "      <td>51.0</td>\n",
       "      <td>13.0</td>\n",
       "      <td>7.0</td>\n",
       "      <td>0.807317</td>\n",
       "      <td>0.858537</td>\n",
       "      <td>True</td>\n",
       "      <td>True</td>\n",
       "      <td>PINELLAS</td>\n",
       "      <td>True</td>\n",
       "    </tr>\n",
       "    <tr>\n",
       "      <th>2</th>\n",
       "      <td>2014</td>\n",
       "      <td>591</td>\n",
       "      <td>CAMPBELL PARK ELEMENTARY SCHOOL</td>\n",
       "      <td>True</td>\n",
       "      <td>48.0</td>\n",
       "      <td>24.0</td>\n",
       "      <td>20.0</td>\n",
       "      <td>0.729272</td>\n",
       "      <td>0.817259</td>\n",
       "      <td>True</td>\n",
       "      <td>True</td>\n",
       "      <td>PINELLAS</td>\n",
       "      <td>True</td>\n",
       "    </tr>\n",
       "    <tr>\n",
       "      <th>3</th>\n",
       "      <td>2014</td>\n",
       "      <td>632</td>\n",
       "      <td>FAIRMOUNT PARK ELEMENTARY SCHL</td>\n",
       "      <td>True</td>\n",
       "      <td>47.0</td>\n",
       "      <td>14.0</td>\n",
       "      <td>9.0</td>\n",
       "      <td>0.770570</td>\n",
       "      <td>0.851266</td>\n",
       "      <td>True</td>\n",
       "      <td>True</td>\n",
       "      <td>PINELLAS</td>\n",
       "      <td>True</td>\n",
       "    </tr>\n",
       "    <tr>\n",
       "      <th>4</th>\n",
       "      <td>2014</td>\n",
       "      <td>510</td>\n",
       "      <td>MAXIMO ELEMENTARY SCHOOL</td>\n",
       "      <td>True</td>\n",
       "      <td>66.0</td>\n",
       "      <td>22.0</td>\n",
       "      <td>11.0</td>\n",
       "      <td>0.621569</td>\n",
       "      <td>0.794118</td>\n",
       "      <td>True</td>\n",
       "      <td>True</td>\n",
       "      <td>PINELLAS</td>\n",
       "      <td>True</td>\n",
       "    </tr>\n",
       "  </tbody>\n",
       "</table>\n",
       "</div>"
      ],
      "text/plain": [
       "   year  total_enrollment                                         school  \\\n",
       "0  2014               549  LAKEWOOD ELEMENTARY SCHOOL                      \n",
       "1  2014               410  MELROSE ELEMENTARY SCHOOL                       \n",
       "2  2014               591  CAMPBELL PARK ELEMENTARY SCHOOL                 \n",
       "3  2014               632  FAIRMOUNT PARK ELEMENTARY SCHL                  \n",
       "4  2014               510  MAXIMO ELEMENTARY SCHOOL                        \n",
       "\n",
       "  pinellas_flag  percent_pre_kinder_ready  percent_passing_reading  \\\n",
       "0          True                      62.0                     19.0   \n",
       "1          True                      51.0                     13.0   \n",
       "2          True                      48.0                     24.0   \n",
       "3          True                      47.0                     14.0   \n",
       "4          True                      66.0                     22.0   \n",
       "\n",
       "   percent_passing_math  percent_free_lunch  percent_black_enrollment  \\\n",
       "0                  15.0            0.688525                  0.817851   \n",
       "1                   7.0            0.807317                  0.858537   \n",
       "2                  20.0            0.729272                  0.817259   \n",
       "3                   9.0            0.770570                  0.851266   \n",
       "4                  11.0            0.621569                  0.794118   \n",
       "\n",
       "  majority_free_lunch_flag majority_black_enrollment_flag      district  \\\n",
       "0                     True                           True  PINELLAS       \n",
       "1                     True                           True  PINELLAS       \n",
       "2                     True                           True  PINELLAS       \n",
       "3                     True                           True  PINELLAS       \n",
       "4                     True                           True  PINELLAS       \n",
       "\n",
       "  FF_school_flag  \n",
       "0           True  \n",
       "1           True  \n",
       "2           True  \n",
       "3           True  \n",
       "4           True  "
      ]
     },
     "execution_count": 4,
     "metadata": {},
     "output_type": "execute_result"
    }
   ],
   "source": [
    "schools.head()"
   ]
  },
  {
   "cell_type": "code",
   "execution_count": 5,
   "metadata": {
    "collapsed": false
   },
   "outputs": [
    {
     "data": {
      "text/plain": [
       "year                                int64\n",
       "total_enrollment                    int64\n",
       "school                             object\n",
       "pinellas_flag                        bool\n",
       "percent_pre_kinder_ready          float64\n",
       "percent_passing_reading           float64\n",
       "percent_passing_math              float64\n",
       "percent_free_lunch                float64\n",
       "percent_black_enrollment          float64\n",
       "majority_free_lunch_flag             bool\n",
       "majority_black_enrollment_flag       bool\n",
       "district                           object\n",
       "FF_school_flag                     object\n",
       "dtype: object"
      ]
     },
     "execution_count": 5,
     "metadata": {},
     "output_type": "execute_result"
    }
   ],
   "source": [
    "schools.dtypes"
   ]
  },
  {
   "cell_type": "code",
   "execution_count": 14,
   "metadata": {
    "collapsed": false
   },
   "outputs": [
    {
     "data": {
      "image/png": "[encoded data removed]",
      "text/plain": [
       "<matplotlib.figure.Figure at 0x10cc88fd0>"
      ]
     },
     "metadata": {},
     "output_type": "display_data"
    }
   ],
   "source": [
    "g  = plt.scatter(\\\n",
    "            x=schools['percent_passing_reading'], \n",
    "            y=schools['percent_passing_math'], \n",
    "            #size\n",
    "                 s=schools['total_enrollment']/20, \n",
    "            #opacity\n",
    "                 alpha=0.4)\n"
   ]
  },
  {
   "cell_type": "code",
   "execution_count": null,
   "metadata": {
    "collapsed": true
   },
   "outputs": [],
   "source": []
  },
  {
   "cell_type": "markdown",
   "metadata": {
    "deletable": true,
    "editable": true
   },
   "source": [
    "## Scatterplots show relationships\n",
    "Let's look, for \n"
   ]
  },
  {
   "cell_type": "markdown",
   "metadata": {},
   "source": [
    "## Seaborn gives us facet grids!"
   ]
  },
  {
   "cell_type": "code",
   "execution_count": null,
   "metadata": {
    "collapsed": true
   },
   "outputs": [],
   "source": []
  },
  {
   "cell_type": "markdown",
   "metadata": {
    "deletable": true,
    "editable": true
   },
   "source": [
    "## Pairplots show *many* relationships"
   ]
  },
  {
   "cell_type": "markdown",
   "metadata": {
    "deletable": true,
    "editable": true
   },
   "source": [
    "## Facetgrids — what does breaking it out show us?"
   ]
  },
  {
   "cell_type": "markdown",
   "metadata": {
    "deletable": true,
    "editable": true
   },
   "source": [
    "## Filter "
   ]
  },
  {
   "cell_type": "code",
   "execution_count": null,
   "metadata": {
    "collapsed": true,
    "deletable": true,
    "editable": true
   },
   "outputs": [],
   "source": [
    "##"
   ]
  },
  {
   "cell_type": "code",
   "execution_count": null,
   "metadata": {
    "collapsed": true,
    "deletable": true,
    "editable": true
   },
   "outputs": [],
   "source": []
  }
 ],
 "metadata": {
  "kernelspec": {
   "display_name": "Python 2",
   "language": "python",
   "name": "python2"
  },
  "language_info": {
   "codemirror_mode": {
    "name": "ipython",
    "version": 2
   },
   "file_extension": ".py",
   "mimetype": "text/x-python",
   "name": "python",
   "nbconvert_exporter": "python",
   "pygments_lexer": "ipython2",
   "version": "2.7.6"
  }
 },
 "nbformat": 4,
 "nbformat_minor": 2
}
